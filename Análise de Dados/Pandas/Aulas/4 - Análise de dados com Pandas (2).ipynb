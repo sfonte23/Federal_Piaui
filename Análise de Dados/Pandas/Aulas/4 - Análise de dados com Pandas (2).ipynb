{
 "cells": [
  {
   "cell_type": "markdown",
   "metadata": {},
   "source": [
    "### Disciplina de Análise de Dados    \n",
    "### Curso de Gestão de Dados\n",
    "### Universidade Federal do Piauí\n",
    "##### Prof. Arlino Magalhães\n",
    "arlino@ufpi.edu.br | @arlino.magalhaes\n",
    "\n",
    "\n",
    "# Análise de dados com Pandas\n",
    "\n",
    "Referência: Tadewald, Rodrigo. Python para Data Science e Machine Learning. Disponível em: Udemy, 2021. \n",
    "| Link da Udemy: https://www.udemy.com/course/python-para-data-science-e-machine-learning/"
   ]
  },
  {
   "cell_type": "markdown",
   "metadata": {},
   "source": [
    "# O que Pandas?\n",
    "\n",
    "* É uma biblioteca de código aberto escrita sobre Numpy\n",
    "* Permite visualização e limpeza de dados.\n",
    "* É semelhante ao Excel.\n",
    "* Pode trabalhar com dados de diversos tipos.\n",
    "* Possui métodos próprios de visualização de dados."
   ]
  },
  {
   "cell_type": "markdown",
   "metadata": {},
   "source": [
    "# Introdução ao Pandas\n",
    "\n",
    "* Series\n",
    "* DataFrames\n",
    "* Dados ausentes\n",
    "* GroupBy\n",
    "* Mesclar,Juntar, e Concatenar\n",
    "* Operações\n",
    "* Entrada e saída de dados"
   ]
  },
  {
   "cell_type": "markdown",
   "metadata": {},
   "source": [
    "# Instalação\n",
    "\n",
    "    Conda install pandas\n",
    "    \n",
    "    Pip install pandas"
   ]
  }
 ],
 "metadata": {
  "kernelspec": {
   "display_name": "Python 3 (ipykernel)",
   "language": "python",
   "name": "python3"
  },
  "language_info": {
   "codemirror_mode": {
    "name": "ipython",
    "version": 3
   },
   "file_extension": ".py",
   "mimetype": "text/x-python",
   "name": "python",
   "nbconvert_exporter": "python",
   "pygments_lexer": "ipython3",
   "version": "3.9.13"
  },
  "toc-autonumbering": false,
  "toc-showmarkdowntxt": true
 },
 "nbformat": 4,
 "nbformat_minor": 4
}
